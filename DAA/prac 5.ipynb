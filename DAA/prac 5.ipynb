{
 "cells": [
  {
   "cell_type": "code",
   "execution_count": 3,
   "id": "1dee00dc",
   "metadata": {
    "scrolled": true
   },
   "outputs": [
    {
     "name": "stdout",
     "output_type": "stream",
     "text": [
      ". Q . . . .\n",
      ". . . Q . .\n",
      ". . . . . Q\n",
      "Q . . . . .\n",
      ". . Q . . .\n",
      ". . . . Q .\n",
      "\n"
     ]
    }
   ],
   "source": [
    "def is_safe(board, row, col, n):\n",
    "    for i in range(row):\n",
    "        if board[i] == col or abs(board[i] - col) == row - i:\n",
    "            return False\n",
    "    return True\n",
    "\n",
    "def solve_n_queens(board, row, n):\n",
    "    if row == n:  # All queens are placed\n",
    "        print_board(board, n)\n",
    "        return True\n",
    "\n",
    "    for col in range(n):\n",
    "        if is_safe(board, row, col, n):\n",
    "            board[row] = col  # Place the queen\n",
    "            if solve_n_queens(board, row + 1, n):\n",
    "                return True\n",
    "            # Backtrack\n",
    "            board[row] = -1\n",
    "    return False\n",
    "\n",
    "def print_board(board, n):\n",
    "    for i in range(n):\n",
    "        row = ['Q' if board[i] == j else '.' for j in range(n)]\n",
    "        print(' '.join(row))\n",
    "    print()\n",
    "\n",
    "def n_queens(n):\n",
    "    board = [-1] * n  # -1 means no queen is placed\n",
    "    if not solve_n_queens(board, 0, n):\n",
    "        print(\"Solution does not exist\")\n",
    "        \n",
    "n_queens(4)\n"
   ]
  },
  {
   "cell_type": "code",
   "execution_count": null,
   "id": "da5c070d",
   "metadata": {},
   "outputs": [],
   "source": [
    "# Time Complexity:   O(n!)\n",
    "# Space Complexity:  O(n)"
   ]
  }
 ],
 "metadata": {
  "kernelspec": {
   "display_name": "Python 3 (ipykernel)",
   "language": "python",
   "name": "python3"
  },
  "language_info": {
   "codemirror_mode": {
    "name": "ipython",
    "version": 3
   },
   "file_extension": ".py",
   "mimetype": "text/x-python",
   "name": "python",
   "nbconvert_exporter": "python",
   "pygments_lexer": "ipython3",
   "version": "3.11.5"
  }
 },
 "nbformat": 4,
 "nbformat_minor": 5
}
