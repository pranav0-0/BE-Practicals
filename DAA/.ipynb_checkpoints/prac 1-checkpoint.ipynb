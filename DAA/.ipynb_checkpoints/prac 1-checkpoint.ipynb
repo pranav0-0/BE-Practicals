{
 "cells": [
  {
   "cell_type": "code",
   "execution_count": 3,
   "id": "9fdd56fe",
   "metadata": {},
   "outputs": [],
   "source": [
    "# Non Recursive Fibonacci"
   ]
  },
  {
   "cell_type": "code",
   "execution_count": 36,
   "id": "d32e798c",
   "metadata": {},
   "outputs": [
    {
     "name": "stdout",
     "output_type": "stream",
     "text": [
      "Enter the value of n:\t5\n",
      "0 1 1 2 3 "
     ]
    }
   ],
   "source": [
    "n=int(input(\"Enter the value of n:\\t\"))\n",
    "a,b=0,1\n",
    "if n<2:\n",
    "    print(n)\n",
    "else:\n",
    "    for i in range(n):\n",
    "        print(a,end=\" \")\n",
    "        temp=a\n",
    "        a=b\n",
    "        b=temp+b"
   ]
  },
  {
   "cell_type": "code",
   "execution_count": 38,
   "id": "6cd200ae",
   "metadata": {},
   "outputs": [
    {
     "name": "stdout",
     "output_type": "stream",
     "text": [
      "Enter the value of n:\t5\n",
      "0 1 1 2 3 "
     ]
    }
   ],
   "source": [
    "def fibonacci(n):\n",
    "    if n <= 1:\n",
    "        return n\n",
    "    return fibonacci(n - 1) + fibonacci(n - 2)\n",
    "\n",
    "n=int(input(\"Enter the value of n:\\t\"))\n",
    "for i in range(n):\n",
    "    print(fibonacci(i), end=\" \")"
   ]
  },
  {
   "cell_type": "code",
   "execution_count": 39,
   "id": "be522e12",
   "metadata": {},
   "outputs": [],
   "source": [
    "# for iterative\n",
    "# Time Complexity:  O(n)\n",
    "# Space Complexity: O(1)\n",
    "\n",
    "# for recursive\n",
    "# Time Complexity:  O(2^n)\n",
    "# Space Complexity: O(n)"
   ]
  }
 ],
 "metadata": {
  "kernelspec": {
   "display_name": "Python 3 (ipykernel)",
   "language": "python",
   "name": "python3"
  },
  "language_info": {
   "codemirror_mode": {
    "name": "ipython",
    "version": 3
   },
   "file_extension": ".py",
   "mimetype": "text/x-python",
   "name": "python",
   "nbconvert_exporter": "python",
   "pygments_lexer": "ipython3",
   "version": "3.11.5"
  }
 },
 "nbformat": 4,
 "nbformat_minor": 5
}
