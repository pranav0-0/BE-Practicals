{
 "cells": [
  {
   "cell_type": "code",
   "execution_count": null,
   "id": "97f650ba",
   "metadata": {},
   "outputs": [],
   "source": [
    "class Item:\n",
    "    def __init__(self, profit, weight):\n",
    "        self.profit = profit\n",
    "        self.weight = weight\n",
    "\n",
    "def fractionalKnapsack(w, arr):\n",
    "    arr.sort(key=lambda x: x.profit/x.weight, reverse=True)\n",
    "    finalValue = 0.0\n",
    "    for item in arr:\n",
    "        if w >= item.weight:\n",
    "            finalValue += item.profit\n",
    "            w -= item.weight\n",
    "        else:\n",
    "            finalValue += item.profit * (w/item.weight)\n",
    "            break\n",
    "    return finalValue\n",
    "\n",
    "if __name__ == \"__main__\":\n",
    "    n = int(input(\"Enter number of items-\\n\"))\n",
    "    arr = []\n",
    "    for i in range(n):\n",
    "        profit = int(input(\"Enter profit of item \" + str(i + 1) + \"-\\n\"))\n",
    "        weight = int(input(\"Enter weight of item \" + str(i + 1) + \"-\\n\"))\n",
    "        arr.append(Item(profit, weight))\n",
    "    w = int(input(\"Enter capacity of knapsack-\\n\"))\n",
    "    print(\"Maximum value in knapsack: \", fractionalKnapsack(w, arr))\n"
   ]
  },
  {
   "cell_type": "code",
   "execution_count": null,
   "id": "e850888b",
   "metadata": {},
   "outputs": [],
   "source": [
    "# Time Complexity:   O(n log n)\n",
    "# Space Complexity:  O(n)"
   ]
  }
 ],
 "metadata": {
  "kernelspec": {
   "display_name": "Python 3 (ipykernel)",
   "language": "python",
   "name": "python3"
  },
  "language_info": {
   "codemirror_mode": {
    "name": "ipython",
    "version": 3
   },
   "file_extension": ".py",
   "mimetype": "text/x-python",
   "name": "python",
   "nbconvert_exporter": "python",
   "pygments_lexer": "ipython3",
   "version": "3.11.5"
  }
 },
 "nbformat": 4,
 "nbformat_minor": 5
}
