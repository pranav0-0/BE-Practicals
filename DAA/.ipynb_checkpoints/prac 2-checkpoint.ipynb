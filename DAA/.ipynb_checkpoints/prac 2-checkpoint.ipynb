{
 "cells": [
  {
   "cell_type": "code",
   "execution_count": 34,
   "id": "01af8e2f",
   "metadata": {},
   "outputs": [
    {
     "name": "stdout",
     "output_type": "stream",
     "text": [
      "[['f', '0'], ['c', '100'], ['d', '101'], ['e', '111'], ['a', '1100'], ['b', '1101']]\n"
     ]
    }
   ],
   "source": [
    "from heapq import heapify, heappop, heappush\n",
    "\n",
    "def huffman_encoding(freqs):\n",
    "    heap = [[wt, [ch, \"\"]] for ch, wt in freqs.items()]\n",
    "    heapify(heap)\n",
    "    while len(heap) > 1:\n",
    "        lo, hi = heappop(heap), heappop(heap)\n",
    "        for pair in lo[1:]:\n",
    "            pair[1] = '0' + pair[1]\n",
    "        for pair in hi[1:]:\n",
    "            pair[1] = '1' + pair[1]\n",
    "        heappush(heap, [lo[0] + hi[0]] + lo[1:] + hi[1:])\n",
    "    return sorted(heappop(heap)[1:], key=lambda p: (len(p[-1]), p))\n",
    "\n",
    "freqs = {'a': 5, 'b': 9, 'c': 12, 'd': 13, 'e': 16, 'f': 45}\n",
    "huffman_codes = huffman_encoding(freqs)\n",
    "print(huffman_codes)\n"
   ]
  },
  {
   "cell_type": "code",
   "execution_count": null,
   "id": "1edd240a",
   "metadata": {},
   "outputs": [],
   "source": [
    "# Time Complexity:   O(n log n)\n",
    "# Space Complexity:  O(n)"
   ]
  }
 ],
 "metadata": {
  "kernelspec": {
   "display_name": "Python 3 (ipykernel)",
   "language": "python",
   "name": "python3"
  },
  "language_info": {
   "codemirror_mode": {
    "name": "ipython",
    "version": 3
   },
   "file_extension": ".py",
   "mimetype": "text/x-python",
   "name": "python",
   "nbconvert_exporter": "python",
   "pygments_lexer": "ipython3",
   "version": "3.11.5"
  }
 },
 "nbformat": 4,
 "nbformat_minor": 5
}
